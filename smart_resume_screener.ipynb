{
 "cells": [
  {
   "cell_type": "markdown",
   "metadata": {},
   "source": [
    "# Smart Resume Screener - MentorBaba Assignment\n",
    "\n",
    "This notebook builds a machine learning model to predict whether a resume matches a job description."
   ]
  },
  {
   "cell_type": "code",
   "execution_count": 1,
   "metadata": {},
   "outputs": [],
   "source": [
    "# Import libraries\n",
    "import pandas as pd\n",
    "import numpy as np\n",
    "import re\n",
    "from sklearn.feature_extraction.text import TfidfVectorizer\n",
    "from sklearn.model_selection import train_test_split\n",
    "from sklearn.linear_model import LogisticRegression\n",
    "from sklearn.metrics import accuracy_score, precision_score, recall_score, f1_score, confusion_matrix\n",
    "from sklearn.metrics import classification_report\n",
    "import matplotlib.pyplot as plt\n",
    "import seaborn as sns"
   ]
  },
  {
   "cell_type": "markdown",
   "metadata": {},
   "source": [
    "## Step 1: Dataset Preparation\n",
    "Creating dummy dataset with Job Descriptions, Resumes, and Match labels."
   ]
  },
  {
   "cell_type": "code",
   "execution_count": 2,
   "metadata": {},
   "outputs": [
    {
     "name": "stdout",
     "output_type": "stream",
     "text": [
      "Dataset created:\n",
      "                                      job_description  \\\n",
      "0   Looking for a Python developer with experience...   \n",
      "1   Seeking Java developer with Spring Boot and mi...   \n",
      "2   Data Scientist position requiring Python, SQL,...   \n",
      "3   Frontend developer needed with React, JavaScri...   \n",
      "4   DevOps engineer with Docker, Kubernetes, and C...   \n",
      "5   Backend developer with Node.js, MongoDB, and A...   \n",
      "6   Mobile app developer with Flutter and Android ...   \n",
      "7   Full stack developer with Python Django and Re...   \n",
      "8   Machine learning engineer with TensorFlow and ...   \n",
      "9   Software engineer with C++ and system programm...   \n",
      "10  Web developer with PHP, MySQL, and WordPress e...   \n",
      "11  Cloud architect with AWS, Azure, and infrastru...   \n",
      "12  QA engineer with automation testing and Seleni...   \n",
      "13  Product manager with agile methodology and pro...   \n",
      "14  UI/UX designer with Figma, Adobe Creative Suit...   \n",
      "\n",
      "                                               resume  match  \n",
      "0   Experienced Python engineer skilled in ML, clo...      1  \n",
      "1   Java developer with 3 years Spring Boot and mi...      1  \n",
      "2   Data scientist with expertise in Python, SQL, ...      1  \n",
      "3   Frontend specialist with React, JavaScript, HT...      1  \n",
      "4   DevOps professional with Docker, Kubernetes, J...      1  \n",
      "5   Backend engineer proficient in Node.js, Expres...      1  \n",
      "6   Mobile developer with Flutter, Dart, Android S...      1  \n",
      "7   Full stack developer with Django, Python, Reac...      1  \n",
      "8   ML engineer with TensorFlow, PyTorch, deep lea...      1  \n",
      "9   Software developer with C++, system design, an...      1  \n",
      "10  Marketing specialist with social media, conten...      0  \n",
      "11  Sales representative with customer relationshi...      0  \n",
      "12  Graphic designer with Photoshop, Illustrator, ...      0  \n",
      "13  Accountant with financial analysis, Excel, and...      0  \n",
      "14  Teacher with classroom management, curriculum ...      0  \n",
      "\n",
      "Dataset shape: (15, 3)\n",
      "Match distribution: {1: 10, 0: 5}\n"
     ]
    }
   ],
   "source": [
    "# Create dummy dataset\n",
    "data = {\n",
    "    'job_description': [\n",
    "        \"Looking for a Python developer with experience in ML and AWS cloud computing\",\n",
    "        \"Seeking Java developer with Spring Boot and microservices experience\",\n",
    "        \"Data Scientist position requiring Python, SQL, and machine learning skills\",\n",
    "        \"Frontend developer needed with React, JavaScript, and CSS expertise\",\n",
    "        \"DevOps engineer with Docker, Kubernetes, and CI/CD pipeline experience\",\n",
    "        \"Backend developer with Node.js, MongoDB, and API development skills\",\n",
    "        \"Mobile app developer with Flutter and Android development experience\",\n",
    "        \"Full stack developer with Python Django and React experience\",\n",
    "        \"Machine learning engineer with TensorFlow and deep learning expertise\",\n",
    "        \"Software engineer with C++ and system programming background\",\n",
    "        \"Web developer with PHP, MySQL, and WordPress experience\",\n",
    "        \"Cloud architect with AWS, Azure, and infrastructure design skills\",\n",
    "        \"QA engineer with automation testing and Selenium experience\",\n",
    "        \"Product manager with agile methodology and project management skills\",\n",
    "        \"UI/UX designer with Figma, Adobe Creative Suite, and user research experience\"\n",
    "    ],\n",
    "    'resume': [\n",
    "        \"Experienced Python engineer skilled in ML, cloud computing, and AWS services\",\n",
    "        \"Java developer with 3 years Spring Boot and microservices architecture experience\",\n",
    "        \"Data scientist with expertise in Python, SQL, pandas, and scikit-learn\",\n",
    "        \"Frontend specialist with React, JavaScript, HTML, CSS, and responsive design\",\n",
    "        \"DevOps professional with Docker, Kubernetes, Jenkins, and AWS experience\",\n",
    "        \"Backend engineer proficient in Node.js, Express, MongoDB, and REST APIs\",\n",
    "        \"Mobile developer with Flutter, Dart, Android Studio, and iOS experience\",\n",
    "        \"Full stack developer with Django, Python, React, and database management\",\n",
    "        \"ML engineer with TensorFlow, PyTorch, deep learning, and neural networks\",\n",
    "        \"Software developer with C++, system design, and performance optimization\",\n",
    "        \"Marketing specialist with social media, content creation, and SEO skills\",\n",
    "        \"Sales representative with customer relationship and communication experience\",\n",
    "        \"Graphic designer with Photoshop, Illustrator, and creative design portfolio\",\n",
    "        \"Accountant with financial analysis, Excel, and bookkeeping experience\",\n",
    "        \"Teacher with classroom management, curriculum development, and student engagement\"\n",
    "    ],\n",
    "    'match': [1, 1, 1, 1, 1, 1, 1, 1, 1, 1, 0, 0, 0, 0, 0]\n",
    "}\n",
    "\n",
    "df = pd.DataFrame(data)\n",
    "print(\"Dataset created:\")\n",
    "print(df)\n",
    "print(f\"\\nDataset shape: {df.shape}\")\n",
    "print(f\"Match distribution: {df['match'].value_counts().to_dict()}\")"
   ]
  },
  {
   "cell_type": "markdown",
   "metadata": {},
   "source": [
    "## Step 2: Text Preprocessing\n",
    "Cleaning and preparing text data for machine learning."
   ]
  },
  {
   "cell_type": "code",
   "execution_count": 3,
   "metadata": {},
   "outputs": [
    {
     "name": "stdout",
     "output_type": "stream",
     "text": [
      "Text preprocessing completed:\n",
      "\n",
      "Example of cleaned text:\n",
      "Original JD: Looking for a Python developer with experience in ML and AWS cloud computing\n",
      "Cleaned JD: looking for a python developer with experience in ml and aws cloud computing\n",
      "\n",
      "Original Resume: Experienced Python engineer skilled in ML, cloud computing, and AWS services\n",
      "Cleaned Resume: experienced python engineer skilled in ml cloud computing and aws services\n"
     ]
    }
   ],
   "source": [
    "def preprocess_text(text):\n",
    "    \"\"\"Clean and preprocess text data\"\"\"\n",
    "    # Convert to lowercase\n",
    "    text = text.lower()\n",
    "    # Remove punctuation and special characters\n",
    "    text = re.sub(r'[^a-zA-Z0-9\\s]', '', text)\n",
    "    # Remove extra whitespace\n",
    "    text = ' '.join(text.split())\n",
    "    return text\n",
    "\n",
    "# Apply preprocessing\n",
    "df['jd_clean'] = df['job_description'].apply(preprocess_text)\n",
    "df['resume_clean'] = df['resume'].apply(preprocess_text)\n",
    "\n",
    "# Combine JD and Resume text for feature extraction\n",
    "df['combined_text'] = df['jd_clean'] + ' ' + df['resume_clean']\n",
    "\n",
    "print(\"Text preprocessing completed:\")\n",
    "print(\"\\nExample of cleaned text:\")\n",
    "print(f\"Original JD: {df['job_description'].iloc[0]}\")\n",
    "print(f\"Cleaned JD: {df['jd_clean'].iloc[0]}\")\n",
    "print(f\"\\nOriginal Resume: {df['resume'].iloc[0]}\")\n",
    "print(f\"Cleaned Resume: {df['resume_clean'].iloc[0]}\")"
   ]
  },
  {
   "cell_type": "code",
   "execution_count": 4,
   "metadata": {},
   "outputs": [
    {
     "name": "stdout",
     "output_type": "stream",
     "text": [
      "Feature matrix shape: (15, 100)\n",
      "Target variable shape: (15,)\n",
      "\n",
      "Top 10 features: ['accountant' 'adobe' 'agile' 'analysis' 'android' 'api' 'apis' 'app'\n",
      " 'architect' 'architecture']\n"
     ]
    }
   ],
   "source": [
    "# Convert text to numerical features using TF-IDF\n",
    "vectorizer = TfidfVectorizer(max_features=100, stop_words='english')\n",
    "X = vectorizer.fit_transform(df['combined_text'])\n",
    "y = df['match']\n",
    "\n",
    "print(f\"Feature matrix shape: {X.shape}\")\n",
    "print(f\"Target variable shape: {y.shape}\")\n",
    "print(f\"\\nTop 10 features: {vectorizer.get_feature_names_out()[:10]}\")"
   ]
  },
  {
   "cell_type": "markdown",
   "metadata": {},
   "source": [
    "## Step 3: Model Training\n",
    "Training a Logistic Regression model for classification."
   ]
  },
  {
   "cell_type": "code",
   "execution_count": 5,
   "metadata": {},
   "outputs": [
    {
     "name": "stdout",
     "output_type": "stream",
     "text": [
      "Training set size: 10\n",
      "Test set size: 5\n",
      "\n",
      "Model training completed!\n",
      "Model coefficients shape: (1, 100)\n"
     ]
    }
   ],
   "source": [
    "# Split data (small dataset, so using 70-30 split)\n",
    "X_train, X_test, y_train, y_test = train_test_split(X, y, test_size=0.3, random_state=42, stratify=y)\n",
    "\n",
    "print(f\"Training set size: {X_train.shape[0]}\")\n",
    "print(f\"Test set size: {X_test.shape[0]}\")\n",
    "\n",
    "# Train Logistic Regression model\n",
    "model = LogisticRegression(random_state=42, max_iter=1000)\n",
    "model.fit(X_train, y_train)\n",
    "\n",
    "print(\"\\nModel training completed!\")\n",
    "print(f\"Model coefficients shape: {model.coef_.shape}\")"
   ]
  },
  {
   "cell_type": "markdown",
   "metadata": {},
   "source": [
    "## Step 4: Model Evaluation\n",
    "Evaluating model performance using various metrics."
   ]
  },
  {
   "cell_type": "code",
   "execution_count": 6,
   "metadata": {},
   "outputs": [
    {
     "name": "stdout",
     "output_type": "stream",
     "text": [
      "Model Evaluation Metrics:\n",
      "Accuracy: 0.6000\n",
      "Precision: 0.6000\n",
      "Recall: 1.0000\n",
      "F1-Score: 0.7500\n",
      "\n",
      "Detailed Classification Report:\n",
      "              precision    recall  f1-score   support\n",
      "\n",
      "    No Match       0.00      0.00      0.00         2\n",
      "       Match       0.60      1.00      0.75         3\n",
      "\n",
      "    accuracy                           0.60         5\n",
      "   macro avg       0.30      0.50      0.38         5\n",
      "weighted avg       0.36      0.60      0.45         5\n",
      "\n"
     ]
    },
    {
     "name": "stderr",
     "output_type": "stream",
     "text": [
      "D:\\anaconda\\Lib\\site-packages\\sklearn\\metrics\\_classification.py:1565: UndefinedMetricWarning: Precision is ill-defined and being set to 0.0 in labels with no predicted samples. Use `zero_division` parameter to control this behavior.\n",
      "  _warn_prf(average, modifier, f\"{metric.capitalize()} is\", len(result))\n",
      "D:\\anaconda\\Lib\\site-packages\\sklearn\\metrics\\_classification.py:1565: UndefinedMetricWarning: Precision is ill-defined and being set to 0.0 in labels with no predicted samples. Use `zero_division` parameter to control this behavior.\n",
      "  _warn_prf(average, modifier, f\"{metric.capitalize()} is\", len(result))\n",
      "D:\\anaconda\\Lib\\site-packages\\sklearn\\metrics\\_classification.py:1565: UndefinedMetricWarning: Precision is ill-defined and being set to 0.0 in labels with no predicted samples. Use `zero_division` parameter to control this behavior.\n",
      "  _warn_prf(average, modifier, f\"{metric.capitalize()} is\", len(result))\n"
     ]
    }
   ],
   "source": [
    "# Make predictions\n",
    "y_pred = model.predict(X_test)\n",
    "y_pred_proba = model.predict_proba(X_test)[:, 1]\n",
    "\n",
    "# Calculate metrics\n",
    "accuracy = accuracy_score(y_test, y_pred)\n",
    "precision = precision_score(y_test, y_pred)\n",
    "recall = recall_score(y_test, y_pred)\n",
    "f1 = f1_score(y_test, y_pred)\n",
    "\n",
    "print(\"Model Evaluation Metrics:\")\n",
    "print(f\"Accuracy: {accuracy:.4f}\")\n",
    "print(f\"Precision: {precision:.4f}\")\n",
    "print(f\"Recall: {recall:.4f}\")\n",
    "print(f\"F1-Score: {f1:.4f}\")\n",
    "\n",
    "# Detailed classification report\n",
    "print(\"\\nDetailed Classification Report:\")\n",
    "print(classification_report(y_test, y_pred, target_names=['No Match', 'Match']))"
   ]
  },
  {
   "cell_type": "code",
   "execution_count": 7,
   "metadata": {},
   "outputs": [
    {
     "data": {
      "image/png": "[encoded data removed]",
      "text/plain": [
       "<Figure size 800x600 with 2 Axes>"
      ]
     },
     "metadata": {},
     "output_type": "display_data"
    },
    {
     "name": "stdout",
     "output_type": "stream",
     "text": [
      "Confusion Matrix:\n",
      "True Negatives: 0\n",
      "False Positives: 2\n",
      "False Negatives: 0\n",
      "True Positives: 3\n"
     ]
    }
   ],
   "source": [
    "# Confusion Matrix\n",
    "cm = confusion_matrix(y_test, y_pred)\n",
    "\n",
    "plt.figure(figsize=(8, 6))\n",
    "sns.heatmap(cm, annot=True, fmt='d', cmap='Blues', \n",
    "            xticklabels=['No Match', 'Match'], \n",
    "            yticklabels=['No Match', 'Match'])\n",
    "plt.title('Confusion Matrix')\n",
    "plt.xlabel('Predicted')\n",
    "plt.ylabel('Actual')\n",
    "plt.show()\n",
    "\n",
    "print(f\"Confusion Matrix:\")\n",
    "print(f\"True Negatives: {cm[0,0]}\")\n",
    "print(f\"False Positives: {cm[0,1]}\")\n",
    "print(f\"False Negatives: {cm[1,0]}\")\n",
    "print(f\"True Positives: {cm[1,1]}\")"
   ]
  },
  {
   "cell_type": "markdown",
   "metadata": {},
   "source": [
    "## Step 5: Prediction on New Data\n",
    "Testing the model with new JD-Resume pairs."
   ]
  },
  {
   "cell_type": "code",
   "execution_count": 8,
   "metadata": {},
   "outputs": [
    {
     "name": "stdout",
     "output_type": "stream",
     "text": [
      "Predictions on New Data:\n",
      "==================================================\n",
      "\n",
      "Sample 1:\n",
      "JD: Looking for React developer with JavaScript and frontend experience\n",
      "Resume: Frontend developer with 2 years React, JavaScript, HTML, CSS experience\n",
      "Expected: Match\n",
      "Predicted: Match\n",
      "Match Probability: 0.7496\n",
      "Correct: ✓\n",
      "\n",
      "Sample 2:\n",
      "JD: Seeking data scientist with Python and machine learning skills\n",
      "Resume: Chef with 5 years cooking experience in Italian and French cuisine\n",
      "Expected: No Match\n",
      "Predicted: Match\n",
      "Match Probability: 0.7514\n",
      "Correct: ✗\n",
      "\n",
      "Sample 3:\n",
      "JD: Backend developer needed with Node.js and database experience\n",
      "Resume: Backend engineer with Node.js, Express, MongoDB, and API development\n",
      "Expected: Match\n",
      "Predicted: Match\n",
      "Match Probability: 0.7456\n",
      "Correct: ✓\n"
     ]
    }
   ],
   "source": [
    "# New test samples\n",
    "new_samples = [\n",
    "    {\n",
    "        'jd': \"Looking for React developer with JavaScript and frontend experience\",\n",
    "        'resume': \"Frontend developer with 2 years React, JavaScript, HTML, CSS experience\",\n",
    "        'expected': \"Match\"\n",
    "    },\n",
    "    {\n",
    "        'jd': \"Seeking data scientist with Python and machine learning skills\",\n",
    "        'resume': \"Chef with 5 years cooking experience in Italian and French cuisine\",\n",
    "        'expected': \"No Match\"\n",
    "    },\n",
    "    {\n",
    "        'jd': \"Backend developer needed with Node.js and database experience\",\n",
    "        'resume': \"Backend engineer with Node.js, Express, MongoDB, and API development\",\n",
    "        'expected': \"Match\"\n",
    "    }\n",
    "]\n",
    "\n",
    "print(\"Predictions on New Data:\")\n",
    "print(\"=\" * 50)\n",
    "\n",
    "for i, sample in enumerate(new_samples, 1):\n",
    "    # Preprocess new sample\n",
    "    jd_clean = preprocess_text(sample['jd'])\n",
    "    resume_clean = preprocess_text(sample['resume'])\n",
    "    combined = jd_clean + ' ' + resume_clean\n",
    "    \n",
    "    # Transform to features\n",
    "    features = vectorizer.transform([combined])\n",
    "    \n",
    "    # Make prediction\n",
    "    prediction = model.predict(features)[0]\n",
    "    probability = model.predict_proba(features)[0, 1]\n",
    "    \n",
    "    result = \"Match\" if prediction == 1 else \"No Match\"\n",
    "    \n",
    "    print(f\"\\nSample {i}:\")\n",
    "    print(f\"JD: {sample['jd']}\")\n",
    "    print(f\"Resume: {sample['resume']}\")\n",
    "    print(f\"Expected: {sample['expected']}\")\n",
    "    print(f\"Predicted: {result}\")\n",
    "    print(f\"Match Probability: {probability:.4f}\")\n",
    "    print(f\"Correct: {'✓' if result == sample['expected'] else '✗'}\")"
   ]
  },
  {
   "cell_type": "markdown",
   "metadata": {},
   "source": [
    "## Feature Importance Analysis\n",
    "Understanding which words/features are most important for matching."
   ]
  },
  {
   "cell_type": "code",
   "execution_count": 9,
   "metadata": {},
   "outputs": [
    {
     "name": "stdout",
     "output_type": "stream",
     "text": [
      "Top 10 Most Important Features:\n",
      "         feature  importance\n",
      "32      designer   -0.307935\n",
      "24      creative   -0.307935\n",
      "56     photoshop   -0.192533\n",
      "59     portfolio   -0.192533\n",
      "80      selenium   -0.192533\n",
      "96       testing   -0.192533\n",
      "68            qa   -0.192533\n",
      "10    automation   -0.192533\n",
      "12         azure   -0.190426\n",
      "70  relationship   -0.190426\n"
     ]
    },
    {
     "data": {
      "image/png": "[encoded data removed]",
      "text/plain": [
       "<Figure size 1200x800 with 1 Axes>"
      ]
     },
     "metadata": {},
     "output_type": "display_data"
    }
   ],
   "source": [
    "# Get feature importance (coefficients)\n",
    "feature_names = vectorizer.get_feature_names_out()\n",
    "coefficients = model.coef_[0]\n",
    "\n",
    "# Create feature importance dataframe\n",
    "feature_importance = pd.DataFrame({\n",
    "    'feature': feature_names,\n",
    "    'importance': coefficients\n",
    "}).sort_values('importance', key=abs, ascending=False)\n",
    "\n",
    "print(\"Top 10 Most Important Features:\")\n",
    "print(feature_importance.head(10))\n",
    "\n",
    "# Plot feature importance\n",
    "plt.figure(figsize=(12, 8))\n",
    "top_features = feature_importance.head(15)\n",
    "colors = ['green' if x > 0 else 'red' for x in top_features['importance']]\n",
    "plt.barh(range(len(top_features)), top_features['importance'], color=colors)\n",
    "plt.yticks(range(len(top_features)), top_features['feature'])\n",
    "plt.xlabel('Feature Importance (Coefficient)')\n",
    "plt.title('Top 15 Most Important Features for Resume Matching')\n",
    "plt.grid(axis='x', alpha=0.3)\n",
    "plt.tight_layout()\n",
    "plt.show()"
   ]
  },
  {
   "cell_type": "markdown",
   "metadata": {},
   "source": [
    "## Summary and Results\n",
    "\n",
    "### Model Performance:\n",
    "- **Algorithm**: Logistic Regression with TF-IDF features\n",
    "- **Feature Extraction**: TF-IDF Vectorizer (100 features, English stopwords removed)\n",
    "- **Dataset**: 15 JD-Resume pairs (10 matches, 5 non-matches)\n",
    "\n",
    "### Key Findings:\n",
    "1. The model successfully learns to distinguish between matching and non-matching resumes\n",
    "2. Technical keywords (programming languages, frameworks) are strong indicators\n",
    "3. The model can predict match probability for new JD-Resume pairs\n",
    "\n",
    "### Evaluation Metrics:\n",
    "Check the results above for Accuracy, Precision, Recall, and F1-Score.\n",
    "\n",
    "### Practical Applications:\n",
    "- Automated resume screening for HR departments\n",
    "- Candidate ranking based on job requirements\n",
    "- Time-saving in recruitment processes"
   ]
  }
 ],
 "metadata": {
  "kernelspec": {
   "display_name": "Python 3 (ipykernel)",
   "language": "python",
   "name": "python3"
  },
  "language_info": {
   "codemirror_mode": {
    "name": "ipython",
    "version": 3
   },
   "file_extension": ".py",
   "mimetype": "text/x-python",
   "name": "python",
   "nbconvert_exporter": "python",
   "pygments_lexer": "ipython3",
   "version": "3.13.5"
  }
 },
 "nbformat": 4,
 "nbformat_minor": 4
}
